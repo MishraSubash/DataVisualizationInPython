{
 "cells": [
  {
   "cell_type": "markdown",
   "metadata": {},
   "source": [
    "# San Francisco Rental Prices Dashboard\n",
    "\n",
    "In this notebook, you will compile the visualizations from the previous analysis into functions that can be used for a Panel dashboard."
   ]
  },
  {
   "cell_type": "code",
   "execution_count": 73,
   "metadata": {},
   "outputs": [],
   "source": [
    "# initial imports\n",
    "import os\n",
    "import pandas as pd\n",
    "import matplotlib.pyplot as plt\n",
    "import hvplot.pandas\n",
    "import panel as pn\n",
    "import plotly.express as px\n",
    "from pathlib import Path\n",
    "from dotenv import load_dotenv\n",
    "\n",
    "# Initialize the Panel Extensions (for Plotly)\n",
    "pn.extension('plotly')"
   ]
  },
  {
   "cell_type": "code",
   "execution_count": 74,
   "metadata": {},
   "outputs": [],
   "source": [
    "# Read the Mapbox API key\n",
    "load_dotenv()\n",
    "mapbox_token = \"pk.eyJ1Ijoic3Viam9pbjUwIiwiYSI6ImNrOWRpaTJodDA0MnUza2xnNDR2YWoxdHUifQ.qt904TrF0PvekgvDUpDOqA\"\n",
    "#mapbox_token = os.getenv(\"MAPBOX\")"
   ]
  },
  {
   "cell_type": "markdown",
   "metadata": {},
   "source": [
    "# Import Data"
   ]
  },
  {
   "cell_type": "code",
   "execution_count": 75,
   "metadata": {},
   "outputs": [],
   "source": [
    "# Import the CSVs to Pandas DataFrames\n",
    "file_path = Path(\"Data/sfo_neighborhoods_census_data.csv\")\n",
    "sfo_data = pd.read_csv(file_path, index_col=\"year\")\n",
    "\n",
    "file_path = Path(\"Data/neighborhoods_coordinates.csv\")\n",
    "df_neighborhood_locations = pd.read_csv(file_path)"
   ]
  },
  {
   "cell_type": "markdown",
   "metadata": {},
   "source": [
    "- - -"
   ]
  },
  {
   "cell_type": "markdown",
   "metadata": {},
   "source": [
    "## Panel Visualizations\n",
    "\n",
    "In this section, you will copy the code for each plot type from your analysis notebook and place it into separate functions that Panel can use to create panes for the dashboard. \n",
    "\n",
    "These functions will convert the plot object to a Panel pane.\n",
    "\n",
    "Be sure to include any DataFrame transformation/manipulation code required along with the plotting code.\n",
    "\n",
    "Return a Panel pane object from each function that can be used to build the dashboard.\n",
    "\n",
    "Note: Remove any `.show()` lines from the code. We want to return the plots instead of showing them. The Panel dashboard will then display the plots."
   ]
  },
  {
   "cell_type": "code",
   "execution_count": 76,
   "metadata": {},
   "outputs": [],
   "source": [
    "# Define Panel Visualization Functions\n",
    "def housing_units_per_year():\n",
    "    df_housing_units = sfo_data[\"housing_units\"].groupby(sfo_data.index).mean()\n",
    "    \n",
    "    fig_housing_units = plt.figure()\n",
    "    plot_housing_units = df_housing_units.plot.bar()\n",
    "    plot_housing_units.set_xlabel(\"Year\")\n",
    "    plot_housing_units.set_ylabel(\"Housing Units\")\n",
    "    plot_housing_units.set_title(\"Housing Units in San Francisco from 2010 to 2016\", fontsize=12, fontweight=\"bold\")\n",
    "\n",
    "    housing_units_std = df_housing_units.std()\n",
    "    min_unit_housing = min(df_housing_units)\n",
    "    max_unit_housing = max(df_housing_units)\n",
    "\n",
    "    plot_housing_units.set_ylim(min_unit_housing - housing_units_std, max_unit_housing + housing_units_std)\n",
    "    plt.close(fig_housing_units)\n",
    "    \n",
    "    return pn.pane.Matplotlib(fig_housing_units, tight=True)\n"
   ]
  },
  {
   "cell_type": "code",
   "execution_count": 77,
   "metadata": {},
   "outputs": [],
   "source": [
    "def average_gross_rent():\n",
    "    \"\"\"Average Gross Rent in San Francisco Per Year.\"\"\"\n",
    "    df_avg_costs = (sfo_data[[\"sale_price_sqr_foot\", \"gross_rent\"]].groupby('year').mean())\n",
    "    \n",
    "    fig_avg_gross_rent = plt.figure()\n",
    "    plot_avg_gross_rent = df_avg_costs[\"gross_rent\"].plot()\n",
    "    plot_avg_gross_rent.set_xlabel(\"Year\")\n",
    "    plot_avg_gross_rent.set_ylabel(\"Gross Rent\")\n",
    "    plot_avg_gross_rent.set_title(\"Average Gross Rent in San Francisco\", fontsize=14, fontweight=\"bold\")\n",
    "    plt.close(fig_avg_gross_rent)\n",
    "    return pn.pane.Matplotlib(fig_avg_gross_rent, tight=True) "
   ]
  },
  {
   "cell_type": "code",
   "execution_count": 78,
   "metadata": {},
   "outputs": [],
   "source": [
    "def average_sales_price():\n",
    "    \"\"\"Average Sales Price Per Year.\"\"\"\n",
    "    df_avg_costs = (sfo_data[[\"sale_price_sqr_foot\", \"gross_rent\"]].groupby('year').mean())    \n",
    "    \n",
    "    fig_avg_sale_price = plt.figure()\n",
    "    plot_avg_sale_price = df_avg_costs[\"sale_price_sqr_foot\"].plot()\n",
    "    plot_avg_sale_price.set_xlabel(\"Year\")\n",
    "    plot_avg_sale_price.set_ylabel(\"Avg. Sale Price\")\n",
    "    plot_avg_sale_price.set_title(\"Average Sale Price per Square Foot\", fontsize=14, fontweight=\"bold\")\n",
    "    plt.close(fig_avg_sale_price)\n",
    "    return pn.pane.Matplotlib(fig_avg_sale_price, tight=True)  \n",
    "    "
   ]
  },
  {
   "cell_type": "code",
   "execution_count": 79,
   "metadata": {},
   "outputs": [],
   "source": [
    "def average_price_by_neighborhood():\n",
    "    \"\"\"Average Prices by Neighborhood.\"\"\"\n",
    "    \n",
    "    df_costs = sfo_data.groupby([sfo_data.index, \"neighborhood\"]).mean()\n",
    "    df_costs.reset_index(inplace=True)\n",
    "    df_costs.rename(columns={\"level_0\": \"year\"}, inplace=True)\n",
    "    \n",
    "    sale_price_curve = df_costs.hvplot.line(\"year\", \"sale_price_sqr_foot\", xlabel=\"Year\", ylabel=\"Avg. Sale Price per Square Foot\", groupby=\"neighborhood\",)\n",
    "    return sale_price_curve"
   ]
  },
  {
   "cell_type": "code",
   "execution_count": 80,
   "metadata": {},
   "outputs": [],
   "source": [
    "def top_most_expensive_neighborhoods():\n",
    "    \"\"\"Top 10 Most Expensive Neighborhoods.\"\"\"\n",
    "    \n",
    "    expensive_neighborhoods = sfo_data.groupby(by=\"neighborhood\").mean()\n",
    "    expensive_neighborhoods = expensive_neighborhoods.sort_values(by=\"sale_price_sqr_foot\", ascending=False).head()\n",
    "    expensive_neighborhoods = expensive_neighborhoods.reset_index()\n",
    "\n",
    "    expensive_10_neighborhoods = expensive_neighborhoods.hvplot.bar(\n",
    "        \"neighborhood\", \n",
    "        \"sale_price_sqr_foot\", \n",
    "        title=\"Top 10 Expensive Neighborhoods in SFO\",\n",
    "        xlabel=\"Neighborhood\",\n",
    "        ylabel=\"Avg. Sale Price per Square Foot\",\n",
    "        rot=90,\n",
    "    )\n",
    "    return expensive_10_neighborhoods"
   ]
  },
  {
   "cell_type": "code",
   "execution_count": 81,
   "metadata": {},
   "outputs": [],
   "source": [
    "def parallel_coordinates():\n",
    "    \"\"\"Parallel Coordinates Plot.\"\"\"\n",
    "    expensive_neighborhoods = sfo_data.groupby(by=\"neighborhood\").mean()\n",
    "    expensive_neighborhoods = expensive_neighborhoods.sort_values( by=\"sale_price_sqr_foot\", ascending=False).head(10)\n",
    "    expensive_neighborhoods = expensive_neighborhoods.reset_index()\n",
    "    \n",
    "    expensive_plot = px.parallel_coordinates(\n",
    "        expensive_neighborhoods,\n",
    "        color=\"sale_price_sqr_foot\",\n",
    "        color_continuous_scale=px.colors.sequential.Inferno,\n",
    "    )\n",
    "    return expensive_plot   "
   ]
  },
  {
   "cell_type": "code",
   "execution_count": 86,
   "metadata": {},
   "outputs": [],
   "source": [
    "def parallel_categories():\n",
    "    \"\"\"Parallel Categories Plot.\"\"\"\n",
    "    expensive_neighborhoods = sfo_data.groupby(by=\"neighborhood\").mean()\n",
    "    expensive_neighborhoods = expensive_neighborhoods.sort_values( by=\"sale_price_sqr_foot\", ascending=False).head(10)\n",
    "    expensive_neighborhoods = expensive_neighborhoods.reset_index()\n",
    "    \n",
    "    expensive_plot = px.parallel_categories(\n",
    "        expensive_neighborhoods,\n",
    "        color=\"sale_price_sqr_foot\",\n",
    "        color_continuous_scale=px.colors.sequential.Inferno,\n",
    "    )\n",
    "    return expensive_plot"
   ]
  },
  {
   "cell_type": "code",
   "execution_count": 83,
   "metadata": {},
   "outputs": [],
   "source": [
    "def neighborhood_map():\n",
    "    \"\"\"Neighborhood Map\"\"\"\n",
    "    \n",
    "    df_all_neighborhoods = sfo_data.groupby(by=\"neighborhood\").mean()\n",
    "    df_all_neighborhoods.reset_index(inplace=True)\n",
    "    df_all_neighborhoods.rename(columns={\"neighborhood\": \"Neighborhood\"}, inplace=True)\n",
    "\n",
    "    df_all_neighborhoods = pd.merge(df_neighborhood_locations, df_all_neighborhoods, on=\"Neighborhood\")\n",
    "\n",
    "    px.set_mapbox_access_token(mapbox_token)\n",
    "    map = px.scatter_mapbox(\n",
    "        df_all_neighborhoods,\n",
    "        lat=\"Lat\",\n",
    "        lon=\"Lon\",\n",
    "        size=\"sale_price_sqr_foot\",\n",
    "        color=\"gross_rent\",\n",
    "        color_continuous_scale=px.colors.cyclical.IceFire,\n",
    "        hover_name=\"Neighborhood\",\n",
    "        title=\"Averange Sale Price Per Square Foot and Gross Rent in San Francisco\",\n",
    "    )\n",
    "    plotly_panel = pn.pane.Plotly(map)\n",
    "    plotly_panel._updates = True\n",
    "    return plotly_panel"
   ]
  },
  {
   "cell_type": "markdown",
   "metadata": {},
   "source": [
    "## Panel Dashboard\n",
    "\n",
    "In this section, you will combine all of the plots into a single dashboard view using Panel. Be creative with your dashboard design!"
   ]
  },
  {
   "cell_type": "code",
   "execution_count": 84,
   "metadata": {},
   "outputs": [],
   "source": [
    "# YOUR CODE HERE!\n",
    "housing_units = pn.Column (housing_units_per_year())\n",
    "gross_rent = pn.Column(average_gross_rent())\n",
    "sales_price = pn.Column(average_sales_price())\n",
    "parallel = pn.Column(parallel_coordinates())\n",
    "avg_nei = pn.Column(average_price_by_neighborhood())\n",
    "most_expbar = pn.Column(top_most_expensive_neighborhoods())\n",
    "\n",
    "\n",
    "\n",
    "panel = pn.Tabs(\n",
    "    (\"Housing Units\", housing_units), \n",
    "    (\"Avg. Gross Rent\",gross_rent) , \n",
    "    (\"Avg. Sales Price\",sales_price) ,\n",
    "    (\"Parallel Coordinates\",parallel),\n",
    "    (\"Avg. Price by Neighborhood\",avg_nei),\n",
    "    (\"10 Most Expensive Neighborhoods\",most_expbar)\n",
    ")"
   ]
  },
  {
   "cell_type": "markdown",
   "metadata": {},
   "source": [
    "## Serve the Panel Dashboard"
   ]
  },
  {
   "cell_type": "code",
   "execution_count": 87,
   "metadata": {},
   "outputs": [],
   "source": [
    "panel.servable()"
   ]
  },
  {
   "cell_type": "code",
   "execution_count": null,
   "metadata": {},
   "outputs": [],
   "source": []
  }
 ],
 "metadata": {
  "file_extension": ".py",
  "kernelspec": {
   "display_name": "Python 3",
   "language": "python",
   "name": "python3"
  },
  "language_info": {
   "codemirror_mode": {
    "name": "ipython",
    "version": 3
   },
   "file_extension": ".py",
   "mimetype": "text/x-python",
   "name": "python",
   "nbconvert_exporter": "python",
   "pygments_lexer": "ipython3",
   "version": "3.7.6"
  },
  "mimetype": "text/x-python",
  "name": "python",
  "npconvert_exporter": "python",
  "pygments_lexer": "ipython3",
  "version": 3
 },
 "nbformat": 4,
 "nbformat_minor": 4
}
